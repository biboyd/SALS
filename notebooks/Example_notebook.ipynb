{
 "cells": [
  {
   "cell_type": "markdown",
   "metadata": {},
   "source": [
    "# Example Guide to using SALSA to extract absorbers from a dataset"
   ]
  },
  {
   "cell_type": "markdown",
   "metadata": {},
   "source": [
    "First we need to download a dataset to work with. Here we'll use a yt test dataset of an Isolated Galaxy Simulation"
   ]
  },
  {
   "cell_type": "code",
   "execution_count": 1,
   "metadata": {},
   "outputs": [
    {
     "name": "stdout",
     "output_type": "stream",
     "text": [
      "--2020-06-26 09:50:45--  http://yt-project.org/data/IsolatedGalaxy.tar.gz\n",
      "Resolving yt-project.org (yt-project.org)... 208.113.222.15\n",
      "Connecting to yt-project.org (yt-project.org)|208.113.222.15|:80... connected.\n",
      "HTTP request sent, awaiting response... 301 Moved Permanently\n",
      "Location: https://yt-project.org/data/IsolatedGalaxy.tar.gz [following]\n",
      "--2020-06-26 09:50:46--  https://yt-project.org/data/IsolatedGalaxy.tar.gz\n",
      "Connecting to yt-project.org (yt-project.org)|208.113.222.15|:443... connected.\n",
      "HTTP request sent, awaiting response... 200 OK\n",
      "Length: 305378625 (291M) [application/gzip]\n",
      "Saving to: ‘IsolatedGalaxy.tar.gz’\n",
      "\n",
      "IsolatedGalaxy.tar. 100%[===================>] 291.23M  3.58MB/s    in 80s     \n",
      "\n",
      "2020-06-26 09:52:06 (3.62 MB/s) - ‘IsolatedGalaxy.tar.gz’ saved [305378625/305378625]\n",
      "\n"
     ]
    }
   ],
   "source": [
    "! wget https://yt-project.org/data/IsolatedGalaxy.tar.gz\n",
    "! tar -zxf IsolatedGalaxy.tar.gz"
   ]
  },
  {
   "cell_type": "code",
   "execution_count": 2,
   "metadata": {},
   "outputs": [],
   "source": [
    "import yt\n",
    "import numpy as np\n",
    "import pandas as pd\n",
    "import salsa"
   ]
  },
  {
   "cell_type": "code",
   "execution_count": 3,
   "metadata": {
    "scrolled": true
   },
   "outputs": [
    {
     "name": "stderr",
     "output_type": "stream",
     "text": [
      "yt : [INFO     ] 2020-06-26 09:55:37,502 Parameters: current_time              = 0.0060000200028298\n",
      "yt : [INFO     ] 2020-06-26 09:55:37,503 Parameters: domain_dimensions         = [32 32 32]\n",
      "yt : [INFO     ] 2020-06-26 09:55:37,504 Parameters: domain_left_edge          = [0. 0. 0.]\n",
      "yt : [INFO     ] 2020-06-26 09:55:37,505 Parameters: domain_right_edge         = [1. 1. 1.]\n",
      "yt : [INFO     ] 2020-06-26 09:55:37,506 Parameters: cosmological_simulation   = 0.0\n"
     ]
    },
    {
     "name": "stdout",
     "output_type": "stream",
     "text": [
      "No rays found, Constructing new ones\n"
     ]
    },
    {
     "name": "stderr",
     "output_type": "stream",
     "text": [
      "Parsing Hierarchy : 100%|██████████| 173/173 [00:00<00:00, 7595.59it/s]\n",
      "yt : [INFO     ] 2020-06-26 09:55:37,555 Gathering a field list (this may take a moment.)\n",
      "yt : [WARNING  ] 2020-06-26 09:55:38,863 Field ('gas', 'H_p0_number_density') already exists. Not clobbering.\n",
      "yt : [WARNING  ] 2020-06-26 09:55:38,864 Field ('gas', 'H_number_density') already exists. Not clobbering.\n",
      "yt : [WARNING  ] 2020-06-26 09:55:38,864 Field ('gas', 'H_p0_density') already exists. Not clobbering.\n",
      "yt : [WARNING  ] 2020-06-26 09:55:38,864 Field ('gas', 'H_density') already exists. Not clobbering.\n",
      "yt : [WARNING  ] 2020-06-26 09:55:38,865 Field ('gas', 'H_p0_mass') already exists. Not clobbering.\n",
      "yt : [WARNING  ] 2020-06-26 09:55:38,866 Field ('gas', 'H_mass') already exists. Not clobbering.\n",
      "yt : [INFO     ] 2020-06-26 09:55:38,978 Getting segment at z = 0.0: [0.48994267 0.44523735 0.58385715] unitary to [0.51309589 0.53406162 0.40618943] unitary.\n",
      "yt : [INFO     ] 2020-06-26 09:55:38,980 Getting subsegment: [0.48994266630906946 unitary, 0.44523734986575325 unitary, 0.5838571510369839 unitary] to [0.5130958872072523 unitary, 0.5340616174393409 unitary, 0.4061894273207595 unitary].\n",
      "yt : [INFO     ] 2020-06-26 09:55:39,353 Saving field data to yt dataset: .//ray0.h5.\n",
      "yt : [INFO     ] 2020-06-26 09:55:39,627 Parameters: current_time              = 0.0060000200028298 code_time\n",
      "yt : [INFO     ] 2020-06-26 09:55:39,627 Parameters: domain_dimensions         = [2 2 2]\n",
      "yt : [INFO     ] 2020-06-26 09:55:39,628 Parameters: domain_left_edge          = [0. 0. 0.] code_length\n",
      "yt : [INFO     ] 2020-06-26 09:55:39,629 Parameters: domain_right_edge         = [1. 1. 1.] code_length\n",
      "yt : [INFO     ] 2020-06-26 09:55:39,629 Parameters: cosmological_simulation   = 0.0\n",
      "yt : [INFO     ] 2020-06-26 09:55:39,633 Getting segment at z = 0.0: [0.50393321 0.55987948 0.41896132] unitary to [0.48269224 0.42468469 0.56477912] unitary.\n",
      "yt : [INFO     ] 2020-06-26 09:55:39,637 Getting subsegment: [0.5039332113939474 unitary, 0.5598794805212537 unitary, 0.41896132171368716 unitary] to [0.48269223521044546 unitary, 0.424684688555382 unitary, 0.5647791236259556 unitary].\n",
      "yt : [INFO     ] 2020-06-26 09:55:39,942 Saving field data to yt dataset: .//ray1.h5.\n",
      "yt : [INFO     ] 2020-06-26 09:55:40,196 Parameters: current_time              = 0.0060000200028298 code_time\n",
      "yt : [INFO     ] 2020-06-26 09:55:40,197 Parameters: domain_dimensions         = [2 2 2]\n",
      "yt : [INFO     ] 2020-06-26 09:55:40,198 Parameters: domain_left_edge          = [0. 0. 0.] code_length\n",
      "yt : [INFO     ] 2020-06-26 09:55:40,198 Parameters: domain_right_edge         = [1. 1. 1.] code_length\n",
      "yt : [INFO     ] 2020-06-26 09:55:40,199 Parameters: cosmological_simulation   = 0.0\n",
      "yt : [INFO     ] 2020-06-26 09:55:40,201 Getting segment at z = 0.0: [0.46615423 0.44604038 0.5785113 ] unitary to [0.504922   0.55297542 0.41403152] unitary.\n",
      "yt : [INFO     ] 2020-06-26 09:55:40,203 Getting subsegment: [0.4661542320942815 unitary, 0.44604037692185156 unitary, 0.5785112999301024 unitary] to [0.5049220031637646 unitary, 0.5529754206980964 unitary, 0.4140315183843887 unitary].\n",
      "yt : [INFO     ] 2020-06-26 09:55:40,534 Saving field data to yt dataset: .//ray2.h5.\n",
      "yt : [INFO     ] 2020-06-26 09:55:40,828 Parameters: current_time              = 0.0060000200028298 code_time\n",
      "yt : [INFO     ] 2020-06-26 09:55:40,829 Parameters: domain_dimensions         = [2 2 2]\n",
      "yt : [INFO     ] 2020-06-26 09:55:40,830 Parameters: domain_left_edge          = [0. 0. 0.] code_length\n",
      "yt : [INFO     ] 2020-06-26 09:55:40,830 Parameters: domain_right_edge         = [1. 1. 1.] code_length\n",
      "yt : [INFO     ] 2020-06-26 09:55:40,832 Parameters: cosmological_simulation   = 0.0\n",
      "yt : [INFO     ] 2020-06-26 09:55:40,836 Getting segment at z = 0.0: [0.48976224 0.58774098 0.4491947 ] unitary to [0.53531826 0.43534631 0.5704059 ] unitary.\n",
      "yt : [INFO     ] 2020-06-26 09:55:40,839 Getting subsegment: [0.4897622441214398 unitary, 0.5877409821978699 unitary, 0.4491947010183914 unitary] to [0.5353182565223251 unitary, 0.4353463050207824 unitary, 0.5704058981111957 unitary].\n",
      "yt : [INFO     ] 2020-06-26 09:55:41,091 Saving field data to yt dataset: .//ray3.h5.\n",
      "yt : [INFO     ] 2020-06-26 09:55:41,352 Parameters: current_time              = 0.0060000200028298 code_time\n",
      "yt : [INFO     ] 2020-06-26 09:55:41,352 Parameters: domain_dimensions         = [2 2 2]\n",
      "yt : [INFO     ] 2020-06-26 09:55:41,353 Parameters: domain_left_edge          = [0. 0. 0.] code_length\n",
      "yt : [INFO     ] 2020-06-26 09:55:41,353 Parameters: domain_right_edge         = [1. 1. 1.] code_length\n",
      "yt : [INFO     ] 2020-06-26 09:55:41,354 Parameters: cosmological_simulation   = 0.0\n",
      "yt : [INFO     ] 2020-06-26 09:55:41,558 Parameters: current_time              = 0.0060000200028298 code_time\n",
      "yt : [INFO     ] 2020-06-26 09:55:41,560 Parameters: domain_dimensions         = [2 2 2]\n",
      "yt : [INFO     ] 2020-06-26 09:55:41,562 Parameters: domain_left_edge          = [0. 0. 0.] code_length\n",
      "yt : [INFO     ] 2020-06-26 09:55:41,563 Parameters: domain_right_edge         = [1. 1. 1.] code_length\n",
      "yt : [INFO     ] 2020-06-26 09:55:41,567 Parameters: cosmological_simulation   = 0.0\n",
      "yt : [INFO     ] 2020-06-26 09:55:41,642 Allocating for 3.480e+02 particles (index particle type 'all')\n",
      "yt : [INFO     ] 2020-06-26 09:55:41,653 Identified 2.970e+02 octs\n",
      "yt : [INFO     ] 2020-06-26 09:55:42,093 Parameters: current_time              = 0.0060000200028298 code_time\n",
      "yt : [INFO     ] 2020-06-26 09:55:42,093 Parameters: domain_dimensions         = [2 2 2]\n",
      "yt : [INFO     ] 2020-06-26 09:55:42,094 Parameters: domain_left_edge          = [0. 0. 0.] code_length\n",
      "yt : [INFO     ] 2020-06-26 09:55:42,095 Parameters: domain_right_edge         = [1. 1. 1.] code_length\n",
      "yt : [INFO     ] 2020-06-26 09:55:42,096 Parameters: cosmological_simulation   = 0.0\n",
      "yt : [INFO     ] 2020-06-26 09:55:42,140 Allocating for 3.480e+02 particles (index particle type 'all')\n",
      "yt : [INFO     ] 2020-06-26 09:55:42,150 Identified 2.970e+02 octs\n",
      "/home/bb/anaconda3/lib/python3.7/site-packages/yt/units/yt_array.py:1417: RuntimeWarning: invalid value encountered in true_divide\n",
      "  out=out, **kwargs)\n",
      "yt : [INFO     ] 2020-06-26 09:55:43,925 Parameters: current_time              = 0.0060000200028298 code_time\n",
      "yt : [INFO     ] 2020-06-26 09:55:43,926 Parameters: domain_dimensions         = [2 2 2]\n",
      "yt : [INFO     ] 2020-06-26 09:55:43,927 Parameters: domain_left_edge          = [0. 0. 0.] code_length\n",
      "yt : [INFO     ] 2020-06-26 09:55:43,928 Parameters: domain_right_edge         = [1. 1. 1.] code_length\n",
      "yt : [INFO     ] 2020-06-26 09:55:43,929 Parameters: cosmological_simulation   = 0.0\n",
      "yt : [INFO     ] 2020-06-26 09:55:44,000 Allocating for 3.120e+02 particles (index particle type 'all')\n",
      "yt : [INFO     ] 2020-06-26 09:55:44,004 Identified 2.810e+02 octs\n",
      "yt : [INFO     ] 2020-06-26 09:55:45,932 Parameters: current_time              = 0.0060000200028298 code_time\n",
      "yt : [INFO     ] 2020-06-26 09:55:45,933 Parameters: domain_dimensions         = [2 2 2]\n",
      "yt : [INFO     ] 2020-06-26 09:55:45,934 Parameters: domain_left_edge          = [0. 0. 0.] code_length\n",
      "yt : [INFO     ] 2020-06-26 09:55:45,934 Parameters: domain_right_edge         = [1. 1. 1.] code_length\n",
      "yt : [INFO     ] 2020-06-26 09:55:45,935 Parameters: cosmological_simulation   = 0.0\n",
      "yt : [INFO     ] 2020-06-26 09:55:45,995 Allocating for 3.120e+02 particles (index particle type 'all')\n",
      "yt : [INFO     ] 2020-06-26 09:55:46,000 Identified 3.130e+02 octs\n",
      "yt : [INFO     ] 2020-06-26 09:55:47,825 Parameters: current_time              = 0.0060000200028298 code_time\n",
      "yt : [INFO     ] 2020-06-26 09:55:47,826 Parameters: domain_dimensions         = [2 2 2]\n",
      "yt : [INFO     ] 2020-06-26 09:55:47,827 Parameters: domain_left_edge          = [0. 0. 0.] code_length\n",
      "yt : [INFO     ] 2020-06-26 09:55:47,828 Parameters: domain_right_edge         = [1. 1. 1.] code_length\n",
      "yt : [INFO     ] 2020-06-26 09:55:47,829 Parameters: cosmological_simulation   = 0.0\n",
      "yt : [INFO     ] 2020-06-26 09:55:47,874 Allocating for 3.210e+02 particles (index particle type 'all')\n",
      "yt : [INFO     ] 2020-06-26 09:55:47,879 Identified 2.810e+02 octs\n",
      "yt : [INFO     ] 2020-06-26 09:55:49,671 Parameters: current_time              = 0.0060000200028298 code_time\n"
     ]
    },
    {
     "name": "stderr",
     "output_type": "stream",
     "text": [
      "yt : [INFO     ] 2020-06-26 09:55:49,671 Parameters: domain_dimensions         = [2 2 2]\n",
      "yt : [INFO     ] 2020-06-26 09:55:49,672 Parameters: domain_left_edge          = [0. 0. 0.] code_length\n",
      "yt : [INFO     ] 2020-06-26 09:55:49,673 Parameters: domain_right_edge         = [1. 1. 1.] code_length\n",
      "yt : [INFO     ] 2020-06-26 09:55:49,674 Parameters: cosmological_simulation   = 0.0\n",
      "yt : [INFO     ] 2020-06-26 09:55:49,723 Allocating for 3.480e+02 particles (index particle type 'all')\n",
      "yt : [INFO     ] 2020-06-26 09:55:49,729 Identified 2.970e+02 octs\n",
      "yt : [INFO     ] 2020-06-26 09:55:50,090 Parameters: current_time              = 0.0060000200028298 code_time\n",
      "yt : [INFO     ] 2020-06-26 09:55:50,091 Parameters: domain_dimensions         = [2 2 2]\n",
      "yt : [INFO     ] 2020-06-26 09:55:50,091 Parameters: domain_left_edge          = [0. 0. 0.] code_length\n",
      "yt : [INFO     ] 2020-06-26 09:55:50,092 Parameters: domain_right_edge         = [1. 1. 1.] code_length\n",
      "yt : [INFO     ] 2020-06-26 09:55:50,093 Parameters: cosmological_simulation   = 0.0\n",
      "yt : [INFO     ] 2020-06-26 09:55:50,141 Allocating for 3.480e+02 particles (index particle type 'all')\n",
      "yt : [INFO     ] 2020-06-26 09:55:50,146 Identified 2.970e+02 octs\n"
     ]
    },
    {
     "name": "stdout",
     "output_type": "stream",
     "text": [
      "No absorbers in ray:  ray2.h5\n"
     ]
    },
    {
     "name": "stderr",
     "output_type": "stream",
     "text": [
      "yt : [INFO     ] 2020-06-26 09:55:50,567 Parameters: current_time              = 0.0060000200028298 code_time\n",
      "yt : [INFO     ] 2020-06-26 09:55:50,567 Parameters: domain_dimensions         = [2 2 2]\n",
      "yt : [INFO     ] 2020-06-26 09:55:50,568 Parameters: domain_left_edge          = [0. 0. 0.] code_length\n",
      "yt : [INFO     ] 2020-06-26 09:55:50,569 Parameters: domain_right_edge         = [1. 1. 1.] code_length\n",
      "yt : [INFO     ] 2020-06-26 09:55:50,570 Parameters: cosmological_simulation   = 0.0\n",
      "yt : [INFO     ] 2020-06-26 09:55:50,616 Allocating for 3.120e+02 particles (index particle type 'all')\n",
      "yt : [INFO     ] 2020-06-26 09:55:50,621 Identified 2.810e+02 octs\n"
     ]
    },
    {
     "name": "stdout",
     "output_type": "stream",
     "text": [
      "No absorbers in ray:  ray3.h5\n"
     ]
    },
    {
     "name": "stderr",
     "output_type": "stream",
     "text": [
      "yt : [INFO     ] 2020-06-26 09:55:51,026 Parameters: current_time              = 0.0060000200028298 code_time\n",
      "yt : [INFO     ] 2020-06-26 09:55:51,027 Parameters: domain_dimensions         = [2 2 2]\n",
      "yt : [INFO     ] 2020-06-26 09:55:51,028 Parameters: domain_left_edge          = [0. 0. 0.] code_length\n",
      "yt : [INFO     ] 2020-06-26 09:55:51,028 Parameters: domain_right_edge         = [1. 1. 1.] code_length\n",
      "yt : [INFO     ] 2020-06-26 09:55:51,032 Parameters: cosmological_simulation   = 0.0\n",
      "yt : [INFO     ] 2020-06-26 09:55:51,083 Allocating for 3.120e+02 particles (index particle type 'all')\n",
      "yt : [INFO     ] 2020-06-26 09:55:51,087 Identified 3.130e+02 octs\n"
     ]
    },
    {
     "name": "stdout",
     "output_type": "stream",
     "text": [
      "No absorbers in ray:  ray0.h5\n"
     ]
    },
    {
     "name": "stderr",
     "output_type": "stream",
     "text": [
      "yt : [INFO     ] 2020-06-26 09:55:51,539 Parameters: current_time              = 0.0060000200028298 code_time\n",
      "yt : [INFO     ] 2020-06-26 09:55:51,540 Parameters: domain_dimensions         = [2 2 2]\n",
      "yt : [INFO     ] 2020-06-26 09:55:51,540 Parameters: domain_left_edge          = [0. 0. 0.] code_length\n",
      "yt : [INFO     ] 2020-06-26 09:55:51,541 Parameters: domain_right_edge         = [1. 1. 1.] code_length\n",
      "yt : [INFO     ] 2020-06-26 09:55:51,542 Parameters: cosmological_simulation   = 0.0\n",
      "yt : [INFO     ] 2020-06-26 09:55:51,593 Allocating for 3.210e+02 particles (index particle type 'all')\n",
      "yt : [INFO     ] 2020-06-26 09:55:51,599 Identified 2.810e+02 octs\n"
     ]
    },
    {
     "name": "stdout",
     "output_type": "stream",
     "text": [
      "No absorbers in ray:  ray1.h5\n"
     ]
    }
   ],
   "source": [
    "ds = yt.load(\"IsolatedGalaxy/galaxy0030/galaxy0030\")\n",
    "\n",
    "raydir='./'\n",
    "\n",
    "nrays=4\n",
    "\n",
    "ion_list=['H I', 'C IV']\n",
    "\n",
    "np.random.seed(250)\n",
    "\n",
    "impact_range = [0, 25]\n",
    "\n",
    "df = salsa.generate_catalog(ds, nrays, raydir, ion_list, center=[0.5, 0.5, 0.5],\n",
    "                            impact_param_lims=impact_range, \n",
    "                            fields=['temperature', 'metallicity'], units_dict={'metallicity':'Zsun'})"
   ]
  },
  {
   "cell_type": "code",
   "execution_count": 4,
   "metadata": {},
   "outputs": [
    {
     "data": {
      "text/html": [
       "<div>\n",
       "<style scoped>\n",
       "    .dataframe tbody tr th:only-of-type {\n",
       "        vertical-align: middle;\n",
       "    }\n",
       "\n",
       "    .dataframe tbody tr th {\n",
       "        vertical-align: top;\n",
       "    }\n",
       "\n",
       "    .dataframe thead th {\n",
       "        text-align: right;\n",
       "    }\n",
       "</style>\n",
       "<table border=\"1\" class=\"dataframe\">\n",
       "  <thead>\n",
       "    <tr style=\"text-align: right;\">\n",
       "      <th></th>\n",
       "      <th>name</th>\n",
       "      <th>wave</th>\n",
       "      <th>redshift</th>\n",
       "      <th>col_dens</th>\n",
       "      <th>delta_v</th>\n",
       "      <th>vel_dispersion</th>\n",
       "      <th>interval_start</th>\n",
       "      <th>interval_end</th>\n",
       "      <th>temperature</th>\n",
       "      <th>metallicity</th>\n",
       "      <th>absorber_index</th>\n",
       "    </tr>\n",
       "  </thead>\n",
       "  <tbody>\n",
       "    <tr>\n",
       "      <th>0</th>\n",
       "      <td>H I</td>\n",
       "      <td>1215.67</td>\n",
       "      <td>0.0</td>\n",
       "      <td>17.391493</td>\n",
       "      <td>26.588431</td>\n",
       "      <td>72.576751</td>\n",
       "      <td>0</td>\n",
       "      <td>341</td>\n",
       "      <td>12251.258277</td>\n",
       "      <td>0.00575</td>\n",
       "      <td>2A</td>\n",
       "    </tr>\n",
       "    <tr>\n",
       "      <th>1</th>\n",
       "      <td>H I</td>\n",
       "      <td>1215.67</td>\n",
       "      <td>0.0</td>\n",
       "      <td>12.872221</td>\n",
       "      <td>-38.861315</td>\n",
       "      <td>0.695987</td>\n",
       "      <td>0</td>\n",
       "      <td>6</td>\n",
       "      <td>9901.463239</td>\n",
       "      <td>0.00575</td>\n",
       "      <td>3A</td>\n",
       "    </tr>\n",
       "    <tr>\n",
       "      <th>2</th>\n",
       "      <td>H I</td>\n",
       "      <td>1215.67</td>\n",
       "      <td>0.0</td>\n",
       "      <td>17.220810</td>\n",
       "      <td>16.083087</td>\n",
       "      <td>56.086270</td>\n",
       "      <td>6</td>\n",
       "      <td>311</td>\n",
       "      <td>11956.851768</td>\n",
       "      <td>0.00575</td>\n",
       "      <td>3B</td>\n",
       "    </tr>\n",
       "    <tr>\n",
       "      <th>3</th>\n",
       "      <td>H I</td>\n",
       "      <td>1215.67</td>\n",
       "      <td>0.0</td>\n",
       "      <td>14.018671</td>\n",
       "      <td>-36.979673</td>\n",
       "      <td>1.883133</td>\n",
       "      <td>0</td>\n",
       "      <td>18</td>\n",
       "      <td>10544.340873</td>\n",
       "      <td>0.00575</td>\n",
       "      <td>0A</td>\n",
       "    </tr>\n",
       "    <tr>\n",
       "      <th>4</th>\n",
       "      <td>H I</td>\n",
       "      <td>1215.67</td>\n",
       "      <td>0.0</td>\n",
       "      <td>17.689638</td>\n",
       "      <td>-6.942282</td>\n",
       "      <td>90.645926</td>\n",
       "      <td>18</td>\n",
       "      <td>311</td>\n",
       "      <td>12572.178853</td>\n",
       "      <td>0.00575</td>\n",
       "      <td>0B</td>\n",
       "    </tr>\n",
       "    <tr>\n",
       "      <th>5</th>\n",
       "      <td>H I</td>\n",
       "      <td>1215.67</td>\n",
       "      <td>0.0</td>\n",
       "      <td>17.539859</td>\n",
       "      <td>7.245380</td>\n",
       "      <td>86.619501</td>\n",
       "      <td>3</td>\n",
       "      <td>317</td>\n",
       "      <td>12424.653961</td>\n",
       "      <td>0.00575</td>\n",
       "      <td>1A</td>\n",
       "    </tr>\n",
       "  </tbody>\n",
       "</table>\n",
       "</div>"
      ],
      "text/plain": [
       "  name     wave  redshift   col_dens    delta_v  vel_dispersion  \\\n",
       "0  H I  1215.67       0.0  17.391493  26.588431       72.576751   \n",
       "1  H I  1215.67       0.0  12.872221 -38.861315        0.695987   \n",
       "2  H I  1215.67       0.0  17.220810  16.083087       56.086270   \n",
       "3  H I  1215.67       0.0  14.018671 -36.979673        1.883133   \n",
       "4  H I  1215.67       0.0  17.689638  -6.942282       90.645926   \n",
       "5  H I  1215.67       0.0  17.539859   7.245380       86.619501   \n",
       "\n",
       "   interval_start  interval_end   temperature  metallicity absorber_index  \n",
       "0               0           341  12251.258277      0.00575             2A  \n",
       "1               0             6   9901.463239      0.00575             3A  \n",
       "2               6           311  11956.851768      0.00575             3B  \n",
       "3               0            18  10544.340873      0.00575             0A  \n",
       "4              18           311  12572.178853      0.00575             0B  \n",
       "5               3           317  12424.653961      0.00575             1A  "
      ]
     },
     "execution_count": 4,
     "metadata": {},
     "output_type": "execute_result"
    }
   ],
   "source": [
    "df"
   ]
  }
 ],
 "metadata": {
  "kernelspec": {
   "display_name": "Python 3",
   "language": "python",
   "name": "python3"
  },
  "language_info": {
   "codemirror_mode": {
    "name": "ipython",
    "version": 3
   },
   "file_extension": ".py",
   "mimetype": "text/x-python",
   "name": "python",
   "nbconvert_exporter": "python",
   "pygments_lexer": "ipython3",
   "version": "3.7.7"
  }
 },
 "nbformat": 4,
 "nbformat_minor": 4
}
